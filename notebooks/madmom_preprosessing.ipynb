{
 "cells": [
  {
   "cell_type": "code",
   "execution_count": null,
   "metadata": {
    "collapsed": false
   },
   "outputs": [],
   "source": [
    "%load_ext autoreload\n",
    "%autoreload 2\n",
    "\n",
    "from os import listdir\n",
    "from os.path import isfile, join\n",
    "\n",
    "import numpy as np\n",
    "import matplotlib.pyplot as plt\n",
    "\n",
    "import madmom\n",
    "from madmom.features.onsets import SpectralOnsetProcessor, RNNOnsetProcessor, CNNOnsetProcessor\n",
    "\n",
    "import sys\n",
    "sys.path.append('../src')\n",
    "from preprocessing import spectro_mini_db, spectro_mini_db_patches, concatenate_and_resample\n",
    "from models import OLSPatchRegressor\n",
    "\n",
    "na = np.newaxis\n",
    "\n",
    "plt.rc('text', usetex=True)\n",
    "plt.rc('font', family='serif')"
   ]
  },
  {
   "cell_type": "code",
   "execution_count": null,
   "metadata": {
    "collapsed": true
   },
   "outputs": [],
   "source": [
    "audio_dir = '../data/music_speech/music_wav'\n",
    "audio_files = [f for f in listdir(audio_dir) if isfile(join(audio_dir, f))]"
   ]
  },
  {
   "cell_type": "code",
   "execution_count": null,
   "metadata": {
    "collapsed": false
   },
   "outputs": [],
   "source": [
    "from madmom.audio.filters import LogarithmicFilterbank\n",
    "from madmom.features.beats import RNNBeatProcessor\n",
    "from madmom.features.downbeats import RNNDownBeatProcessor, DBNDownBeatTrackingProcessor\n",
    "\n",
    "rnn_beat_processor = RNNBeatProcessor(post_processor=None)\n",
    "rnn_downbeat_processor = RNNDownBeatProcessor()\n",
    "\n",
    "def get_rnn_beat_processor_features(signal):\n",
    "    return np.array(rnn_beat_processor(signal)).T\n",
    "\n",
    "def get_rnn_downbeat_features(signal):\n",
    "    return rnn_downbeat_processor(signal)\n",
    "\n",
    "processors = [proc() for proc in [SpectralOnsetProcessor, RNNOnsetProcessor, SpectralOnsetProcessor]]\n",
    "processors.append(SpectralOnsetProcessor(onset_method='superflux', fps=200, filterbank=LogarithmicFilterbank, num_bands=24, log=np.log10))\n",
    "\n",
    "processors +=  [get_rnn_beat_processor_features, get_rnn_downbeat_features] "
   ]
  },
  {
   "cell_type": "code",
   "execution_count": null,
   "metadata": {
    "collapsed": false
   },
   "outputs": [],
   "source": [
    "ex_file = audio_files[0]\n",
    "ex_path = join(audio_dir, ex_file)\n",
    "\n",
    "audio = madmom.audio.Signal(ex_path)\n",
    "\n",
    "out = [proc(ex_path) for proc in processors]"
   ]
  },
  {
   "cell_type": "code",
   "execution_count": null,
   "metadata": {
    "collapsed": false
   },
   "outputs": [],
   "source": [
    "out_con = concatenate_and_resample(out)\n",
    "\n",
    "print(out_con.shape)"
   ]
  }
 ],
 "metadata": {
  "kernelspec": {
   "display_name": "Python 3",
   "language": "python",
   "name": "python3"
  },
  "language_info": {
   "codemirror_mode": {
    "name": "ipython",
    "version": 3
   },
   "file_extension": ".py",
   "mimetype": "text/x-python",
   "name": "python",
   "nbconvert_exporter": "python",
   "pygments_lexer": "ipython3",
   "version": "3.5.2"
  }
 },
 "nbformat": 4,
 "nbformat_minor": 1
}
