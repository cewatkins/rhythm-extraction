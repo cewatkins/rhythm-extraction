{
 "cells": [
  {
   "cell_type": "code",
   "execution_count": 3,
   "metadata": {
    "collapsed": false
   },
   "outputs": [
    {
     "name": "stdout",
     "output_type": "stream",
     "text": [
      "The autoreload extension is already loaded. To reload it, use:\n",
      "  %reload_ext autoreload\n"
     ]
    }
   ],
   "source": [
    "%load_ext autoreload\n",
    "%autoreload 2\n",
    "\n",
    "from os import listdir\n",
    "from os.path import isfile, join\n",
    "\n",
    "import numpy as np\n",
    "import matplotlib.pyplot as plt\n",
    "import madmom\n",
    "\n",
    "import sys\n",
    "sys.path.append('../src')\n",
    "from preprocessing import spectro_mini_db, spectro_mini_db_patches\n",
    "from models import OLSPatchRegressor\n",
    "\n",
    "na = np.newaxis\n",
    "\n",
    "plt.rc('text', usetex=True)\n",
    "plt.rc('font', family='serif')"
   ]
  },
  {
   "cell_type": "markdown",
   "metadata": {},
   "source": [
    "# Create a mini database with patches from the spectrogram and Train a simple OLS regressor on it"
   ]
  },
  {
   "cell_type": "markdown",
   "metadata": {},
   "source": [
    "TODO: \n",
    "\n",
    "- add STFT options to the spectrogram (window size etc)\n",
    "- add possibility to use different options at the same time (add depth dimension, is there a problem with the resulting shape?)"
   ]
  },
  {
   "cell_type": "code",
   "execution_count": null,
   "metadata": {
    "collapsed": false
   },
   "outputs": [],
   "source": [
    "music_dir  = '../data/music_speech/music_wav/'\n",
    "speech_dir = '../data/music_speech/speech_wav/'\n",
    "\n",
    "max_samples = -1\n",
    "\n",
    "X, Y = spectro_mini_db(music_dir, speech_dir, max_samples=max_samples)\n",
    "X_patched, Y_patched = spectro_mini_db_patches(music_dir, speech_dir, 10, hpool=16, wpool=15,  shuffle=False, max_samples=max_samples)\n",
    "\n",
    "print('Train Set Shape')\n",
    "print(X.shape, Y.shape)\n",
    "print('Patched Train Set Shape')\n",
    "print(X_patched.shape, Y_patched.shape)"
   ]
  },
  {
   "cell_type": "code",
   "execution_count": null,
   "metadata": {
    "collapsed": false
   },
   "outputs": [],
   "source": [
    "# Train linear patch regressor (att: no bias)\n",
    "regressor = OLSPatchRegressor()\n",
    "regressor.fit(X_patched, Y_patched)\n",
    "\n",
    "print('Train Accuracy (Patched): {}'.format(np.mean(np.sign(regressor.predict(X_patched, patch_mode=True)) == Y_patched)))\n",
    "\n",
    "ypred = regressor.predict(X)\n",
    "print('Train Accuracy (Conv)   : {}'.format(np.mean(np.sign(np.mean(ypred, axis=1)) == Y)))"
   ]
  },
  {
   "cell_type": "markdown",
   "metadata": {},
   "source": [
    "# ----------------------------------"
   ]
  },
  {
   "cell_type": "code",
   "execution_count": null,
   "metadata": {
    "collapsed": false
   },
   "outputs": [],
   "source": [
    "def show_in_grid(input_3d, instant_output=True, figsize=(20, 20), save_path = None):\n",
    "    \n",
    "    N, H, W = input_3d.shape\n",
    "\n",
    "    N_h = int(np.floor(N**.5))\n",
    "    N_w = N // N_h\n",
    "\n",
    "    hpad, wpad = 1, 1\n",
    "    pad_val = np.min(input_3d)\n",
    "\n",
    "    # add padding and grid presentation\n",
    "    padded_input = np.pad(input_3d[:N_h * N_w], [[0,0], [hpad,hpad], [wpad,wpad]], mode='constant', constant_values=pad_val)\n",
    "    H_padded = H + 2*wpad\n",
    "    W_padded = W + 2*hpad\n",
    "    spectro_grid = padded_input.reshape(N_h, N_w, H_padded, W_padded).transpose(0, 2, 1, 3).reshape(N_h* H_padded, N_w * W_padded)\n",
    "    \n",
    "    # present the grid\n",
    "    fig = plt.figure(figsize=figsize)\n",
    "    plt.imshow(spectro_grid, origin='lower')\n",
    "    plt.axis('off')\n",
    "    \n",
    "    if save_path is not None:\n",
    "        plt.savefig(save_path, dpi=300)\n",
    "    \n",
    "    if instant_output:\n",
    "        plt.show()"
   ]
  }
 ],
 "metadata": {
  "kernelspec": {
   "display_name": "Python 3",
   "language": "python",
   "name": "python3"
  },
  "language_info": {
   "codemirror_mode": {
    "name": "ipython",
    "version": 3
   },
   "file_extension": ".py",
   "mimetype": "text/x-python",
   "name": "python",
   "nbconvert_exporter": "python",
   "pygments_lexer": "ipython3",
   "version": "3.5.2"
  }
 },
 "nbformat": 4,
 "nbformat_minor": 1
}
